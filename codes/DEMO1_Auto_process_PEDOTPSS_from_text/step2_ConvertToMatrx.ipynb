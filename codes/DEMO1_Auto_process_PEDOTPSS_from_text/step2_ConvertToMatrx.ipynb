{
 "cells": [
  {
   "cell_type": "markdown",
   "metadata": {},
   "source": [
    "# This script convert graph dataset to adjacency matix and node vectors for machine learning\n",
    "- Node information will be converted to n-dimensional vectors\n",
    "    - There are three types of nodes: numeric values, compounds, and words\n",
    "    - They will be converted to vectors by corresponding encoders\n",
    "        - Compound encoder will calculate fingerprints of compounds and convert them to vectors by PCA, etc\n",
    "        - Word encoder will convert words to vectors by BERT and PCA\n",
    "        - Value encoder gives just numeric array (e.g., 1.2 will be (1.2,1.2,...))\n",
    "- Graph conecction will be converted to adjacency matrixes"
   ]
  },
  {
   "cell_type": "code",
   "execution_count": 3,
   "metadata": {},
   "outputs": [
    {
     "name": "stdout",
     "output_type": "stream",
     "text": [
      "mode:  ['V']\n",
      "targetParamMode:  True\n"
     ]
    }
   ],
   "source": [
    "import sys\n",
    "sys.path.append(\"../MIGraph/GraphConv/\")\n",
    "sys.path.append(\"../MIGraph/Encoders/\")\n",
    "import numpy as np\n",
    "import pandas as pd\n",
    "from tqdm import tqdm\n",
    "import joblib\n",
    "import warnings\n",
    "from Config import Config\n",
    "import glob\n",
    "from ConvGraphScript import drawGraph\n",
    "from PrepDataset import PrepDataset\n",
    "warnings.filterwarnings('ignore')\n",
    "\n",
    "#configuration is saved in Config.py\n",
    "CF=Config()\n",
    "\n",
    "#mode [\"V\"] means that values will be vhosen as problems\n",
    "print(\"mode: \",CF.genre)\n",
    "print(\"targetParamMode: \",CF.targetParamMode)"
   ]
  },
  {
   "cell_type": "markdown",
   "metadata": {},
   "source": [
    "# init encoders\n",
    "- PrepDataset class \n",
    "    - MasterEncoder class\n",
    "        - OE(other encoder): calc vectors for words\n",
    "        - CE(compound encoder): calc vectors for compounds\n",
    "        - VE(value encoder): calc vectors for values"
   ]
  },
  {
   "cell_type": "code",
   "execution_count": 5,
   "metadata": {
    "scrolled": true
   },
   "outputs": [
    {
     "name": "stderr",
     "output_type": "stream",
     "text": [
      "100%|████████████████████████████████████████████████████████████████████████████████| 52/52 [00:00<00:00, 3723.31it/s]"
     ]
    },
    {
     "name": "stdout",
     "output_type": "stream",
     "text": [
      "number of smiles:  52\n",
      "calculate fingerprints\n",
      "error  [Cl-].[Cl-].[Zn2+]\n",
      "error  [Cl-].[Cl-].[Cl-].[In3+]\n",
      "error  [Cl-].[Cl-].[Cu2+]\n",
      "error  [Cl-].[Cl-].[Ni2+]\n",
      "loading files\n",
      "compressing and scaling\n"
     ]
    },
    {
     "name": "stderr",
     "output_type": "stream",
     "text": [
      "\n"
     ]
    }
   ],
   "source": [
    "#init compound encoder\n",
    "PD=PrepDataset()\n",
    "allCompundsPath=\"praparingGraphs/output/allcompounds.csv.gz\"\n",
    "PD.setCompoundEncoder(allCompundsPath)"
   ]
  },
  {
   "cell_type": "code",
   "execution_count": 6,
   "metadata": {},
   "outputs": [
    {
     "name": "stderr",
     "output_type": "stream",
     "text": [
      "  0%|                                                                                            | 0/1 [00:00<?, ?it/s]"
     ]
    },
    {
     "name": "stdout",
     "output_type": "stream",
     "text": [
      "['praparingGraphs/output\\\\PEDOT_PSS_autoprocessedGraph.graphbin.graphbin']\n",
      "praparingGraphs/output\\PEDOT_PSS_autoprocessedGraph.graphbin.graphbin\n"
     ]
    },
    {
     "name": "stderr",
     "output_type": "stream",
     "text": [
      "100%|████████████████████████████████████████████████████████████████████████████████████| 1/1 [00:00<00:00,  4.30it/s]\n"
     ]
    }
   ],
   "source": [
    "#load graph files\n",
    "graphbinList=glob.glob(\"praparingGraphs/output/*.graphbin\")\n",
    "print(graphbinList)\n",
    "\n",
    "for file in tqdm(graphbinList):\n",
    "    print(file)\n",
    "    gl=joblib.load(file)\n",
    "    PD.graphList.extend(gl)"
   ]
  },
  {
   "cell_type": "markdown",
   "metadata": {},
   "source": [
    "# init value and word encoder\n",
    "- at this step, all words in databases will be converted to vectors\n",
    "- There are two modes of initialization, depending of the configuration in Config.py\n",
    "    - If self.initWordEncoder=True\n",
    "        - word vectors will be calculated by BERT\n",
    "        - Please launch bert-server, like...\n",
    "        - \"bert-serving-start -model_dir uncased_L-24_H-1024_A-16\"\n",
    "        - after calculation, the resuls will be saved at \"bin/BERT_docs.bin\" as a dict. \n",
    "    - If self.initWordEncoder=False (default)\n",
    "        - it will just refer the dict of \"bin/BERT_docs.bin\". (much faster!)\n",
    "        - if you make a new database and include new words, you need to re-calculate word vectors by BERT"
   ]
  },
  {
   "cell_type": "code",
   "execution_count": 7,
   "metadata": {},
   "outputs": [
    {
     "name": "stdout",
     "output_type": "stream",
     "text": [
      "load BERT encoder\n",
      "336\n"
     ]
    },
    {
     "data": {
      "image/png": "[encoded data removed]",
      "text/plain": [
       "<Figure size 432x288 with 1 Axes>"
      ]
     },
     "metadata": {
      "needs_background": "light"
     },
     "output_type": "display_data"
    }
   ],
   "source": [
    "#init value and word encoder\n",
    "PD.setScaler()\n",
    "print(len(PD.graphList))"
   ]
  },
  {
   "cell_type": "markdown",
   "metadata": {},
   "source": [
    "# prepare dataset\n",
    "- the prepared graphs have been just graphs. We need make problems for machine learning\n",
    "- convToDataset function will...\n",
    " 1. find a node of [s/cm] in a graph.\n",
    " - find a neighboring node which has a numeric (= conductivity) info\n",
    " - the numeric node will be replaced with \"__unknown__\"\n",
    " - the concealed number will be an answer of the problem\n",
    " - then, all node info will be converted to vectors by encoders\n",
    " - the return will be a list of\n",
    "     1. node vectors\n",
    "     - adjacency matrix\n",
    "     - answer\n",
    "     - info of neighboring node\n"
   ]
  },
  {
   "cell_type": "code",
   "execution_count": 8,
   "metadata": {
    "scrolled": true
   },
   "outputs": [
    {
     "name": "stderr",
     "output_type": "stream",
     "text": [
      " 12%|██████████                                                                      | 42/336 [00:00<00:00, 418.23it/s]"
     ]
    },
    {
     "name": "stdout",
     "output_type": "stream",
     "text": [
      "process  336  graphs\n",
      "converting graphs to vectors\n"
     ]
    },
    {
     "name": "stderr",
     "output_type": "stream",
     "text": [
      "100%|███████████████████████████████████████████████████████████████████████████████| 336/336 [00:00<00:00, 489.89it/s]\n",
      "202it [00:00, 2010.14it/s]"
     ]
    },
    {
     "name": "stdout",
     "output_type": "stream",
     "text": [
      "converting nodes to problems\n"
     ]
    },
    {
     "name": "stderr",
     "output_type": "stream",
     "text": [
      "336it [00:00, 1361.03it/s]\n",
      "100%|███████████████████████████████████████████████████████████████████████████████| 312/312 [00:00<00:00, 422.50it/s]\n",
      "312it [00:00, ?it/s]\n"
     ]
    }
   ],
   "source": [
    "#parallel mode off\n",
    "PD.parallel=False\n",
    "\n",
    "#value nodes neighboring with [s/cm] will be a problem.\n",
    "targetParams=[\"[s/cm]\"]\n",
    "trainDataset=PD.convToDataset(CF.genre,targetParams=targetParams)"
   ]
  },
  {
   "cell_type": "code",
   "execution_count": 9,
   "metadata": {},
   "outputs": [
    {
     "data": {
      "text/plain": [
       "['bin/traindataset.bin']"
      ]
     },
     "execution_count": 9,
     "metadata": {},
     "output_type": "execute_result"
    }
   ],
   "source": [
    "joblib.dump(trainDataset,\"bin/traindataset.bin\",compress=9)"
   ]
  },
  {
   "cell_type": "code",
   "execution_count": 11,
   "metadata": {},
   "outputs": [
    {
     "data": {
      "text/plain": [
       "(array([[-0.5794208 ,  0.97624564,  2.1745737 , ...,  0.10293594,\n",
       "          0.00606985,  0.32400846],\n",
       "        [-0.5794208 ,  0.97624564,  2.1745737 , ..., -0.01793946,\n",
       "          0.8285798 , -0.532893  ],\n",
       "        [-0.5794208 ,  0.97624564,  2.1745737 , ...,  0.3616248 ,\n",
       "         -0.21796219,  0.025046  ],\n",
       "        ...,\n",
       "        [-0.5794208 ,  0.97624564,  2.1745737 , ..., -0.4704844 ,\n",
       "         -0.84605175, -0.2769977 ],\n",
       "        [-0.5794208 ,  0.97624564,  2.1745737 , ..., -0.329338  ,\n",
       "         -0.5496915 ,  0.24944472],\n",
       "        [-0.5794208 ,  0.97624564,  2.1745737 , ..., -0.5191979 ,\n",
       "          1.1315479 , -0.31567222]], dtype=float32),\n",
       " array([[0., 1., 0., ..., 0., 0., 0.],\n",
       "        [1., 0., 0., ..., 0., 0., 0.],\n",
       "        [0., 0., 0., ..., 0., 0., 0.],\n",
       "        ...,\n",
       "        [0., 0., 0., ..., 0., 1., 0.],\n",
       "        [0., 0., 0., ..., 1., 0., 1.],\n",
       "        [0., 0., 0., ..., 0., 1., 0.]], dtype=float32),\n",
       " array([-1.0701813], dtype=float32),\n",
       " '[s/cm]')"
      ]
     },
     "execution_count": 11,
     "metadata": {},
     "output_type": "execute_result"
    }
   ],
   "source": [
    "#see how it was converted...\n",
    "trainDataset[0]"
   ]
  },
  {
   "cell_type": "code",
   "execution_count": null,
   "metadata": {},
   "outputs": [],
   "source": []
  }
 ],
 "metadata": {
  "kernelspec": {
   "display_name": "Python 3",
   "language": "python",
   "name": "python3"
  },
  "language_info": {
   "codemirror_mode": {
    "name": "ipython",
    "version": 3
   },
   "file_extension": ".py",
   "mimetype": "text/x-python",
   "name": "python",
   "nbconvert_exporter": "python",
   "pygments_lexer": "ipython3",
   "version": "3.8.8"
  },
  "toc": {
   "base_numbering": 1,
   "nav_menu": {},
   "number_sections": true,
   "sideBar": true,
   "skip_h1_title": false,
   "title_cell": "Table of Contents",
   "title_sidebar": "Contents",
   "toc_cell": false,
   "toc_position": {},
   "toc_section_display": true,
   "toc_window_display": false
  }
 },
 "nbformat": 4,
 "nbformat_minor": 4
}
