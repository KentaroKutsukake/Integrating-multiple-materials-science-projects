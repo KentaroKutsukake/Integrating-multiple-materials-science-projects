{
 "cells": [
  {
   "cell_type": "markdown",
   "metadata": {},
   "source": [
    "# this is an control experiment to the graph approach\n",
    "- Since the original information is text, normal ML models cannot be employed easily (i.e., they accept only table-type databases)\n",
    "- Apart from graph approach, conventional language learning models can be used, anyway\n",
    "- Here, a famous model, LSTM, is used to input the data"
   ]
  },
  {
   "cell_type": "code",
   "execution_count": 1,
   "metadata": {},
   "outputs": [],
   "source": [
    "import joblib\n",
    "import re"
   ]
  },
  {
   "cell_type": "markdown",
   "metadata": {},
   "source": [
    "# converting to text to problems for LSTM\n",
    "1. extract answers (conductivity) from the text\n",
    "- replace conductivity part with \"__unknown__\"\n",
    "- convert text to vectors (in a very conventional way)"
   ]
  },
  {
   "cell_type": "code",
   "execution_count": 2,
   "metadata": {},
   "outputs": [
    {
     "data": {
      "text/plain": [
       "'a mixture (-0.95859 weight percent of C0001 (\"PH_thousand\") and 1.14449 weight percent of C0002) was spincoated,which was kept for -0.01331 minutes at 0.10497 Celsius,to which a mixture (-0.985 weight percent of C0004 and 1.17083 weight percent of C0002) was dropped,which was kept for -0.35009 minutes at 0.59875 Celsius,which was rinsed by C0002,which was kept for -0.35009 minutes at 0.59875 Celsius,which gave an electricconductivity (0.10507 Scm)'"
      ]
     },
     "execution_count": 2,
     "metadata": {},
     "output_type": "execute_result"
    }
   ],
   "source": [
    "#load txt\n",
    "txtList=joblib.load(\"praparingGraphs/textList.bin\")\n",
    "txtList[0]"
   ]
  },
  {
   "cell_type": "code",
   "execution_count": 3,
   "metadata": {},
   "outputs": [
    {
     "data": {
      "text/plain": [
       "[0.10507, 0.36267, 0.41802, 0.48658]"
      ]
     },
     "execution_count": 3,
     "metadata": {},
     "output_type": "execute_result"
    }
   ],
   "source": [
    "#prepare target list\n",
    "targets=[re.findall('electricconductivity(.+?)Scm',txt)[0] for txt in txtList]\n",
    "targets=[float(t.replace(\"(\",\"\").replace(\" \",\"\")) for t in targets]\n",
    "targets[:4]"
   ]
  },
  {
   "cell_type": "code",
   "execution_count": 4,
   "metadata": {},
   "outputs": [
    {
     "data": {
      "text/plain": [
       "['a mixture (-0.95859 weight percent of C0001 (\"PH_thousand\") and 1.14449 weight percent of C0002) was spincoated,which was kept for -0.01331 minutes at 0.10497 Celsius,to which a mixture (-0.985 weight percent of C0004 and 1.17083 weight percent of C0002) was dropped,which was kept for -0.35009 minutes at 0.59875 Celsius,which was rinsed by C0002,which was kept for -0.35009 minutes at 0.59875 Celsius,which gave an electric conductivity of __unknown__ S/cm)',\n",
       " 'a mixture (-0.95859 weight percent of C0001 (\"PH_thousand\") and 1.14449 weight percent of C0002) was spincoated,which was kept for -0.01331 minutes at 0.10497 Celsius,to which a mixture (-0.66623 weight percent of C0004 and 0.85148 weight percent of C0002) was dropped,which was kept for -0.35009 minutes at 0.59875 Celsius,which was rinsed by C0002,which was kept for -0.35009 minutes at 0.59875 Celsius,which gave an electric conductivity of __unknown__ S/cm)']"
      ]
     },
     "execution_count": 4,
     "metadata": {},
     "output_type": "execute_result"
    }
   ],
   "source": [
    "#prepare problems\n",
    "problems=[re.sub('electricconductivity(.+?)Scm','electric conductivity of __unknown__ S/cm',txt) for txt in txtList]\n",
    "problems[:2]"
   ]
  },
  {
   "cell_type": "code",
   "execution_count": 5,
   "metadata": {},
   "outputs": [],
   "source": [
    "#split dataset\n",
    "from sklearn.model_selection import train_test_split\n",
    "xTr, xTe, yTr, yTe = train_test_split(problems, targets, test_size=0.3, random_state=0)"
   ]
  },
  {
   "cell_type": "code",
   "execution_count": 8,
   "metadata": {},
   "outputs": [
    {
     "name": "stdout",
     "output_type": "stream",
     "text": [
      "a mixture (-0.95859 weight percent of C0001 (\"PH_thousand\") and 1.14449 weight percent of C0002) was spincoated,which was kept for -0.01331 minutes at 0.10497 Celsius,to which a mixture (-0.37034 molar concentration of C0006 in C0013) was dropped,which was kept for -0.35009 minutes at 2.08008 Celsius,which was rinsed by C0002,which was kept for -0.35009 minutes at 0.59875 Celsius,which gave an electric conductivity of __unknown__ S/cm)\n",
      "[13, 14, 1, 27, 5, 6, 4, 19, 28, 29, 16, 15, 32, 5, 6, 4, 12, 2, 18, 3, 2, 9, 10, 1, 39, 11, 7, 1, 17, 8, 30, 3, 13, 14, 1, 48, 37, 38, 4, 49, 41, 59, 2, 31, 3, 2, 9, 10, 1, 35, 11, 7, 42, 107, 8, 3, 2, 33, 34, 12, 3, 2, 9, 10, 1, 35, 11, 7, 1, 40, 8, 3, 20, 21, 22, 23, 4, 24, 25, 26]\n",
      "a mixture (-0.95859 weight percent of C0001 (\"PH_thousand\"), 1.14449 weight percent of C0002, and -0.38595 molar concentration of C0050) was spincoated,which was kept for -0.1817 minutes at 0.10497 Celsius,which gave an electric conductivity of __unknown__ S/cm)\n",
      "[13, 14, 1, 27, 5, 6, 4, 19, 28, 29, 15, 32, 5, 6, 4, 12, 16, 1, 134, 37, 38, 4, 102, 2, 18, 3, 2, 9, 10, 1, 36, 11, 7, 1, 17, 8, 3, 20, 21, 22, 23, 4, 24, 25, 26]\n",
      "a mixture (-0.95859 weight percent of C0001 (\"PH_thousand\"), 0.94597 weight percent of C0002, and -0.76007 weight percent of C0012) was spincoated,which was kept for -0.01331 minutes at 0.10497 Celsius,which gave an electric conductivity of __unknown__ S/cm)\n",
      "[13, 14, 1, 27, 5, 6, 4, 19, 28, 29, 1, 262, 5, 6, 4, 12, 16, 1, 263, 5, 6, 4, 45, 2, 18, 3, 2, 9, 10, 1, 39, 11, 7, 1, 17, 8, 3, 20, 21, 22, 23, 4, 24, 25, 26]\n"
     ]
    }
   ],
   "source": [
    "#simply convert words to vectors by keras\n",
    "from tensorflow.keras.preprocessing.text import Tokenizer\n",
    "from tensorflow.keras.preprocessing.sequence import pad_sequences\n",
    "\n",
    "maxLen = max([txt.count(\" \") for txt in problems])  #154\n",
    "\n",
    "tokenizer = Tokenizer()\n",
    "tokenizer.fit_on_texts(problems)\n",
    "xVTr = tokenizer.texts_to_sequences(xTr)\n",
    "xVTe = tokenizer.texts_to_sequences(xTe)\n",
    "\n",
    "for text, vector in zip(xTr[:3], xVTr[0:3]):\n",
    "    print(text)\n",
    "    print(vector)\n",
    "\n",
    "xTokenTr = pad_sequences(xVTr, maxlen=maxLen)\n",
    "xTokenTe = pad_sequences(xVTe, maxlen=maxLen)"
   ]
  },
  {
   "cell_type": "code",
   "execution_count": 9,
   "metadata": {
    "tags": []
   },
   "outputs": [
    {
     "name": "stdout",
     "output_type": "stream",
     "text": [
      "Model: \"sequential\"\n",
      "_________________________________________________________________\n",
      "Layer (type)                 Output Shape              Param #   \n",
      "=================================================================\n",
      "embedding (Embedding)        (None, None, 32)          12512     \n",
      "_________________________________________________________________\n",
      "lstm (LSTM)                  (None, 16)                3136      \n",
      "_________________________________________________________________\n",
      "dense (Dense)                (None, 1)                 17        \n",
      "=================================================================\n",
      "Total params: 15,665\n",
      "Trainable params: 15,665\n",
      "Non-trainable params: 0\n",
      "_________________________________________________________________\n"
     ]
    },
    {
     "ename": "ValueError",
     "evalue": "Failed to find data adapter that can handle input: <class 'numpy.ndarray'>, (<class 'list'> containing values of types {\"<class 'float'>\"})",
     "output_type": "error",
     "traceback": [
      "\u001b[1;31m---------------------------------------------------------------------------\u001b[0m",
      "\u001b[1;31mValueError\u001b[0m                                Traceback (most recent call last)",
      "\u001b[1;32m<ipython-input-9-d49f149a0b36>\u001b[0m in \u001b[0;36m<module>\u001b[1;34m\u001b[0m\n\u001b[0;32m     14\u001b[0m \u001b[1;33m\u001b[0m\u001b[0m\n\u001b[0;32m     15\u001b[0m \u001b[0mearly_stopping\u001b[0m \u001b[1;33m=\u001b[0m \u001b[0mEarlyStopping\u001b[0m\u001b[1;33m(\u001b[0m\u001b[0mpatience\u001b[0m\u001b[1;33m=\u001b[0m\u001b[1;36m10\u001b[0m\u001b[1;33m,\u001b[0m \u001b[0mverbose\u001b[0m\u001b[1;33m=\u001b[0m\u001b[1;36m1\u001b[0m\u001b[1;33m)\u001b[0m\u001b[1;33m\u001b[0m\u001b[1;33m\u001b[0m\u001b[0m\n\u001b[1;32m---> 16\u001b[1;33m history = model.fit(\n\u001b[0m\u001b[0;32m     17\u001b[0m     \u001b[0mxTokenTr\u001b[0m\u001b[1;33m,\u001b[0m \u001b[0myTr\u001b[0m\u001b[1;33m,\u001b[0m \u001b[0mbatch_size\u001b[0m\u001b[1;33m=\u001b[0m\u001b[1;36m32\u001b[0m\u001b[1;33m,\u001b[0m \u001b[0mepochs\u001b[0m\u001b[1;33m=\u001b[0m\u001b[1;36m100\u001b[0m\u001b[1;33m,\u001b[0m\u001b[1;33m\u001b[0m\u001b[1;33m\u001b[0m\u001b[0m\n\u001b[0;32m     18\u001b[0m     \u001b[0mvalidation_data\u001b[0m\u001b[1;33m=\u001b[0m\u001b[1;33m(\u001b[0m\u001b[0mxTokenTe\u001b[0m\u001b[1;33m,\u001b[0m \u001b[0myTe\u001b[0m\u001b[1;33m)\u001b[0m\u001b[1;33m,\u001b[0m\u001b[1;33m\u001b[0m\u001b[1;33m\u001b[0m\u001b[0m\n",
      "\u001b[1;32m~\\anaconda3\\lib\\site-packages\\tensorflow\\python\\keras\\engine\\training.py\u001b[0m in \u001b[0;36mfit\u001b[1;34m(self, x, y, batch_size, epochs, verbose, callbacks, validation_split, validation_data, shuffle, class_weight, sample_weight, initial_epoch, steps_per_epoch, validation_steps, validation_batch_size, validation_freq, max_queue_size, workers, use_multiprocessing)\u001b[0m\n\u001b[0;32m   1048\u001b[0m          \u001b[0mtraining_utils\u001b[0m\u001b[1;33m.\u001b[0m\u001b[0mRespectCompiledTrainableState\u001b[0m\u001b[1;33m(\u001b[0m\u001b[0mself\u001b[0m\u001b[1;33m)\u001b[0m\u001b[1;33m:\u001b[0m\u001b[1;33m\u001b[0m\u001b[1;33m\u001b[0m\u001b[0m\n\u001b[0;32m   1049\u001b[0m       \u001b[1;31m# Creates a `tf.data.Dataset` and handles batch and epoch iteration.\u001b[0m\u001b[1;33m\u001b[0m\u001b[1;33m\u001b[0m\u001b[1;33m\u001b[0m\u001b[0m\n\u001b[1;32m-> 1050\u001b[1;33m       data_handler = data_adapter.DataHandler(\n\u001b[0m\u001b[0;32m   1051\u001b[0m           \u001b[0mx\u001b[0m\u001b[1;33m=\u001b[0m\u001b[0mx\u001b[0m\u001b[1;33m,\u001b[0m\u001b[1;33m\u001b[0m\u001b[1;33m\u001b[0m\u001b[0m\n\u001b[0;32m   1052\u001b[0m           \u001b[0my\u001b[0m\u001b[1;33m=\u001b[0m\u001b[0my\u001b[0m\u001b[1;33m,\u001b[0m\u001b[1;33m\u001b[0m\u001b[1;33m\u001b[0m\u001b[0m\n",
      "\u001b[1;32m~\\anaconda3\\lib\\site-packages\\tensorflow\\python\\keras\\engine\\data_adapter.py\u001b[0m in \u001b[0;36m__init__\u001b[1;34m(self, x, y, sample_weight, batch_size, steps_per_epoch, initial_epoch, epochs, shuffle, class_weight, max_queue_size, workers, use_multiprocessing, model, steps_per_execution)\u001b[0m\n\u001b[0;32m   1097\u001b[0m       \u001b[0mself\u001b[0m\u001b[1;33m.\u001b[0m\u001b[0m_steps_per_execution_value\u001b[0m \u001b[1;33m=\u001b[0m \u001b[0msteps_per_execution\u001b[0m\u001b[1;33m.\u001b[0m\u001b[0mnumpy\u001b[0m\u001b[1;33m(\u001b[0m\u001b[1;33m)\u001b[0m\u001b[1;33m.\u001b[0m\u001b[0mitem\u001b[0m\u001b[1;33m(\u001b[0m\u001b[1;33m)\u001b[0m\u001b[1;33m\u001b[0m\u001b[1;33m\u001b[0m\u001b[0m\n\u001b[0;32m   1098\u001b[0m \u001b[1;33m\u001b[0m\u001b[0m\n\u001b[1;32m-> 1099\u001b[1;33m     \u001b[0madapter_cls\u001b[0m \u001b[1;33m=\u001b[0m \u001b[0mselect_data_adapter\u001b[0m\u001b[1;33m(\u001b[0m\u001b[0mx\u001b[0m\u001b[1;33m,\u001b[0m \u001b[0my\u001b[0m\u001b[1;33m)\u001b[0m\u001b[1;33m\u001b[0m\u001b[1;33m\u001b[0m\u001b[0m\n\u001b[0m\u001b[0;32m   1100\u001b[0m     self._adapter = adapter_cls(\n\u001b[0;32m   1101\u001b[0m         \u001b[0mx\u001b[0m\u001b[1;33m,\u001b[0m\u001b[1;33m\u001b[0m\u001b[1;33m\u001b[0m\u001b[0m\n",
      "\u001b[1;32m~\\anaconda3\\lib\\site-packages\\tensorflow\\python\\keras\\engine\\data_adapter.py\u001b[0m in \u001b[0;36mselect_data_adapter\u001b[1;34m(x, y)\u001b[0m\n\u001b[0;32m    959\u001b[0m   \u001b[1;32mif\u001b[0m \u001b[1;32mnot\u001b[0m \u001b[0madapter_cls\u001b[0m\u001b[1;33m:\u001b[0m\u001b[1;33m\u001b[0m\u001b[1;33m\u001b[0m\u001b[0m\n\u001b[0;32m    960\u001b[0m     \u001b[1;31m# TODO(scottzhu): This should be a less implementation-specific error.\u001b[0m\u001b[1;33m\u001b[0m\u001b[1;33m\u001b[0m\u001b[1;33m\u001b[0m\u001b[0m\n\u001b[1;32m--> 961\u001b[1;33m     raise ValueError(\n\u001b[0m\u001b[0;32m    962\u001b[0m         \u001b[1;34m\"Failed to find data adapter that can handle \"\u001b[0m\u001b[1;33m\u001b[0m\u001b[1;33m\u001b[0m\u001b[0m\n\u001b[0;32m    963\u001b[0m         \"input: {}, {}\".format(\n",
      "\u001b[1;31mValueError\u001b[0m: Failed to find data adapter that can handle input: <class 'numpy.ndarray'>, (<class 'list'> containing values of types {\"<class 'float'>\"})"
     ]
    }
   ],
   "source": [
    "#simply train with a LSTM model\n",
    "from tensorflow.keras.models import Sequential\n",
    "from tensorflow.keras.layers import LSTM, Dense, Embedding\n",
    "from tensorflow.keras.callbacks import EarlyStopping \n",
    "\n",
    "vocabularySize = len(tokenizer.word_index) + 1 \n",
    "model = Sequential()\n",
    "model.add(Embedding(input_dim=vocabularySize, output_dim=32))\n",
    "model.add(LSTM(16, return_sequences=False))\n",
    "model.add(Dense(1))\n",
    "model.compile(loss='MSE', optimizer='adam')\n",
    "\n",
    "model.summary()\n",
    "\n",
    "early_stopping = EarlyStopping(patience=10, verbose=1) \n",
    "history = model.fit(\n",
    "    xTokenTr, yTr, batch_size=32, epochs=100,\n",
    "    validation_data=(xTokenTe, yTe),\n",
    "    callbacks=[early_stopping]\n",
    ")"
   ]
  },
  {
   "cell_type": "code",
   "execution_count": 8,
   "metadata": {},
   "outputs": [],
   "source": [
    "import matplotlib.pyplot as plt\n",
    "from sklearn.metrics import r2_score\n",
    "from sklearn.metrics import mean_absolute_error\n",
    "\n",
    "scaler=joblib.load(\"praparingGraphs/scalingDictForPEDOTPSS.bin\")"
   ]
  },
  {
   "cell_type": "code",
   "execution_count": 9,
   "metadata": {},
   "outputs": [],
   "source": [
    "def plot(x,y):\n",
    "    pred=model.predict(x)\n",
    "    y=scaler[\"Scm\"].inverse_transform(y)\n",
    "    pred=scaler[\"Scm\"].inverse_transform(pred)\n",
    "\n",
    "    plt.figure(figsize=(5,5))\n",
    "    plt.axes().set_aspect('equal', 'datalim')\n",
    "    plt.plot(y,pred,\"o\")\n",
    "    print(\"R2: \",r2_score(y,pred))\n",
    "    print(\"MAE: \",mean_absolute_error(y,pred))\n",
    "    \n",
    "    return y,pred"
   ]
  },
  {
   "cell_type": "markdown",
   "metadata": {},
   "source": [
    "# Let's check results!\n",
    "- Actually, the prediction accuracy is not so bad for this case\n",
    "- However, this approach has many intrinsic problems like below:\n",
    "    1. there is no obvious way for multitask training with other format, such as table-type, databases\n",
    "    - Compound information was just treated as a simple text (e.g., C_0001)\n",
    "        - this is weak against spelling variants\n",
    "            - even \"water\" has many expressions, like H2O, dihydrogen monoxide, DHMO, ... \n",
    "            - therefore, an extremely large dataset will be needed to cope with this issue (maybe impossible...)\n",
    "        - newly synthesized (very few data  available!) compounds cannot be converted to vectors appropriately\n",
    "        - ...\n",
    "    - Therefore, we employed a graph approach!"
   ]
  },
  {
   "cell_type": "code",
   "execution_count": 10,
   "metadata": {},
   "outputs": [
    {
     "name": "stdout",
     "output_type": "stream",
     "text": [
      "R2:  0.93994709881063\n",
      "MAE:  0.2308949144338715\n"
     ]
    },
    {
     "data": {
      "image/png": "[encoded data removed]",
      "text/plain": [
       "<Figure size 360x360 with 1 Axes>"
      ]
     },
     "metadata": {
      "needs_background": "light"
     },
     "output_type": "display_data"
    }
   ],
   "source": [
    "TrY,TrPred=plot(xTokenTr,yTr)"
   ]
  },
  {
   "cell_type": "code",
   "execution_count": 11,
   "metadata": {},
   "outputs": [
    {
     "name": "stdout",
     "output_type": "stream",
     "text": [
      "R2:  0.6632674873211077\n",
      "MAE:  0.7038131007953385\n"
     ]
    },
    {
     "data": {
      "image/png": "[encoded data removed]",
      "text/plain": [
       "<Figure size 360x360 with 1 Axes>"
      ]
     },
     "metadata": {
      "needs_background": "light"
     },
     "output_type": "display_data"
    }
   ],
   "source": [
    "Te,TePred=plot(xTokenTe,yTe)"
   ]
  },
  {
   "cell_type": "code",
   "execution_count": 13,
   "metadata": {},
   "outputs": [],
   "source": [
    "#import pandas as pd\n",
    "#df=pd.DataFrame([TrY,TrPred,TeY,TePred])\n",
    "#df.to_csv(\"res.csv\")"
   ]
  },
  {
   "cell_type": "code",
   "execution_count": null,
   "metadata": {},
   "outputs": [],
   "source": []
  }
 ],
 "metadata": {
  "kernelspec": {
   "display_name": "Python 3",
   "language": "python",
   "name": "python3"
  },
  "language_info": {
   "codemirror_mode": {
    "name": "ipython",
    "version": 3
   },
   "file_extension": ".py",
   "mimetype": "text/x-python",
   "name": "python",
   "nbconvert_exporter": "python",
   "pygments_lexer": "ipython3",
   "version": "3.8.8"
  }
 },
 "nbformat": 4,
 "nbformat_minor": 4
}
